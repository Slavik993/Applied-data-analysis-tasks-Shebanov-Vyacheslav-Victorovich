{
 "cells": [
  {
   "cell_type": "markdown",
   "metadata": {
    "id": "KwWN4rlvfph0"
   },
   "source": [
    "> *Когда некоторые люди сталкиваются с проблемой, думают «Я знаю, я решу её с помощью регулярных выражений.» Теперь у них две проблемы*"
   ]
  },
  {
   "cell_type": "markdown",
   "metadata": {
    "id": "AWHtCM55fph4"
   },
   "source": [
    "## Регулярные выражения\n",
    "\n",
    "Регулярное выражение — это строка, задающая шаблон поиска подстрок в тексте. Одному шаблону может соответствовать много разных строчек.\n",
    "\n",
    "Термин «Регулярные выражения» является переводом английского словосочетания «Regular expressions». Перевод не очень точно отражает смысл, правильнее было бы «шаблонные выражения». Регулярное выражение, или коротко «регулярка», состоит из обычных символов и специальных командных последовательностей. Например, `\\d` задаёт любую цифру, а `\\d*` — задает любую последовательность из нуля или более цифр\n",
    "\n",
    "### Начнем с простых текстовых шаблонов\n",
    "\n",
    "В Python поиску по шаблону обучно используется функция `search` из библиотеки `re`:\n",
    "````\n",
    "match = re.search(pattern, string)\n",
    "````"
   ]
  },
  {
   "cell_type": "code",
   "execution_count": 1,
   "metadata": {
    "executionInfo": {
     "elapsed": 18,
     "status": "ok",
     "timestamp": 1757321898525,
     "user": {
      "displayName": "Oli Ataeva",
      "userId": "12190890153830891681"
     },
     "user_tz": -180
    },
    "id": "gCWjfyPzfph5"
   },
   "outputs": [],
   "source": [
    "import re"
   ]
  },
  {
   "cell_type": "markdown",
   "metadata": {
    "id": "slb0TzJlfph7"
   },
   "source": [
    "Метод `re.search()` принимает шаблон `pattern` и строку `string`, а затем ищет этот шаблон в строке.\n",
    "\n",
    "Если поиск успешен, `search()` возвращает подстроку, которая удовлетворяет поиску, в противном случае - `None.\n",
    "\n",
    "\n",
    "Давайте с помощью этого метода попробуем найти в строке котов:"
   ]
  },
  {
   "cell_type": "code",
   "execution_count": 2,
   "metadata": {
    "colab": {
     "base_uri": "https://localhost:8080/"
    },
    "executionInfo": {
     "elapsed": 10,
     "status": "ok",
     "timestamp": 1757321972352,
     "user": {
      "displayName": "Oli Ataeva",
      "userId": "12190890153830891681"
     },
     "user_tz": -180
    },
    "id": "QwPjw6mffph7",
    "outputId": "0716c0a1-9405-4be7-9b23-5f0c87028056"
   },
   "outputs": [
    {
     "name": "stdout",
     "output_type": "stream",
     "text": [
      "Нашёл слово: кот\n"
     ]
    }
   ],
   "source": [
    "string = 'Я люблю котиков и мятные пряники'\n",
    "match = re.search( r'кот', string)\n",
    "if match:\n",
    "    print('Нашёл слово:', match.group())\n",
    "else:\n",
    "    print('В этом тексте нет котов :(')"
   ]
  },
  {
   "cell_type": "markdown",
   "metadata": {
    "id": "1Z04vKgwfph8"
   },
   "source": [
    "Код `match = re.search(r'какая-то регулярка', str)` сохраняет результат поиска в переменную с именем `match`. Если поиск завершился успешно, то `match.group()` является совпадающим текстом\n"
   ]
  },
  {
   "cell_type": "markdown",
   "metadata": {
    "id": "ZEGv40dufph9"
   },
   "source": [
    "## Основные спецсимволы\n",
    "\n",
    "Для задания шаблонов в регулярных выражениях используются спецсимволы.\n",
    "\n",
    "Давайте посмотрим основные из них:"
   ]
  },
  {
   "cell_type": "markdown",
   "metadata": {
    "id": "771IrzSufph9"
   },
   "source": [
    "**.**   Один любой символ, кроме новой строки\n",
    "\n",
    "**\\d**\tЛюбая цифра\n",
    "\n",
    "**\\D**\tЛюбой символ, кроме цифры\n",
    "\n",
    "**\\s**\tЛюбой пробельный символ (пробел, табуляция, конец строки и т.п.)\n",
    "\n",
    "**\\S**\tЛюбой непробельный символ\t(не пробел, не табуляция, не конец строки и т.п.)\n",
    "\n",
    "**\\w**\tЛюбая буква (то, что может быть частью слова), а также цифры и _\n",
    "\n",
    "**\\W**\tЛюбая не-буква, не-цифра и не подчёркивание\n",
    "\n",
    "**[..]**\tОдин из символов в скобках в рамках диапазона, то есть:\n",
    "\n",
    "**\\d** равносильно выражению `[0-9]`\n",
    "\n",
    "**\\D** равносильно выражению `[^0-9]`, так как символ ^ означает любой символ, кроме перечисленных\n",
    "\n",
    "**\\w** равносильно выражению `[0-9a-zA-Z]`, эта запись сочетает в себе последовательность из любых цифр, букв в обоих регистрах\n",
    "\n",
    "**\\s** равносильно `[\\f\\n\\r\\t]` (тут надо постараться, чтобы вспомнить что есть что!)\n",
    "\n",
    "**\\b** Начало или конец слова (слева пусто или не-буква и справа буква, или наоборот). В отличие от предыдущих соответствует позиции, а не символу.\n",
    "\n",
    "**^ и $**\tтоже обозначение начало и конца строки соответственно"
   ]
  },
  {
   "cell_type": "markdown",
   "metadata": {
    "id": "6j-viZe6kU-1"
   },
   "source": [
    "Кстати, любая строка, в которой нет символов, сама по себе является регулярным выражением. Так, выражению \"привет\" будет соответствовать строка “привет” и только она. Регулярные выражения являются регистрозависимыми, поэтому строка “ПрИвЕт” уже не подойдёт. Подобно строкам в языке Python, регулярные выражения имеют спецсимволы `**.^$*+?{}[]\\|()**`, которые в регулярках являются управляющими конструкциями. Для написания их просто как символов требуется их экранировать, для чего нужно поставить перед ними знак \\\n",
    "\n",
    "Например, если вы хотите найти выражение в скобках, то надо написать `\\(\\w*\\)`."
   ]
  },
  {
   "cell_type": "markdown",
   "metadata": {
    "id": "n_lux4YDfph-"
   },
   "source": [
    "### Посмотрим на примеры!"
   ]
  },
  {
   "cell_type": "code",
   "execution_count": 3,
   "metadata": {
    "colab": {
     "base_uri": "https://localhost:8080/"
    },
    "executionInfo": {
     "elapsed": 27,
     "status": "ok",
     "timestamp": 1757322087942,
     "user": {
      "displayName": "Oli Ataeva",
      "userId": "12190890153830891681"
     },
     "user_tz": -180
    },
    "id": "Y6Z7bMLMfph_",
    "outputId": "79f84f0c-47b5-4eab-e2ea-828e2319aa8f"
   },
   "outputs": [
    {
     "name": "stdout",
     "output_type": "stream",
     "text": [
      "дом, ком, космодром, 5ом, 666ом, _ом, ом, "
     ]
    }
   ],
   "source": [
    "# зададим шаблон: любой символ  + окончание \"ом\" и посмотрим, какие примеры подойдут\n",
    "all_strings = ['дом', 'ком', 'космодром', '5ом', '666ом', '_ом', 'ом']\n",
    "for element in all_strings:\n",
    "    match_ = re.search( \".*ом\", element)\n",
    "    if match_:\n",
    "        print(match_.group(), end = ', ')"
   ]
  },
  {
   "cell_type": "code",
   "execution_count": 4,
   "metadata": {
    "colab": {
     "base_uri": "https://localhost:8080/"
    },
    "executionInfo": {
     "elapsed": 33,
     "status": "ok",
     "timestamp": 1757322157094,
     "user": {
      "displayName": "Oli Ataeva",
      "userId": "12190890153830891681"
     },
     "user_tz": -180
    },
    "id": "cnpivSCSviO5",
    "outputId": "0aff1888-9ee1-4394-c1ec-985675766aaa"
   },
   "outputs": [
    {
     "name": "stdout",
     "output_type": "stream",
     "text": [
      "В строке есть вопросительный знак.\n",
      "?\n"
     ]
    }
   ],
   "source": [
    "# проверим есть ли в строке вопросительный знак\n",
    "string = 'Как дела?'\n",
    "result = re.search(r'\\?', string)\n",
    "if result:\n",
    "    print('В строке есть вопросительный знак.')\n",
    "    print(result.group(0))\n",
    "else:\n",
    "    print('В строке нет вопросительно знака.')"
   ]
  },
  {
   "cell_type": "markdown",
   "metadata": {
    "id": "JAUn9CgqfpiC"
   },
   "source": [
    "### Вернёмся к теории\n",
    "\n",
    "Как в регулярном выражении объяснить, сколько раз нам нужно то или иное вхождение символов?\n",
    "\n",
    "**{n}**\t Ровно n повторений\n",
    "\n",
    "**{m,n}**\tОт m до n повторений включительно\n",
    "\n",
    "**{m,}**\tНе менее m повторений\n",
    "\n",
    "**{,n}**\tНе более n повторений\n",
    "\n",
    "**?**\tНоль или одно вхождение, аналогично {0,1}\n",
    "\n",
    "**\\***\tНоль или более вхождений, аналогично {0,}\n",
    "\n",
    "**\\+**\tОдно или более вхождений, аналогично {1,}\n",
    "\n",
    "**|** логический оператор или"
   ]
  },
  {
   "cell_type": "code",
   "execution_count": 5,
   "metadata": {
    "colab": {
     "base_uri": "https://localhost:8080/"
    },
    "executionInfo": {
     "elapsed": 14,
     "status": "ok",
     "timestamp": 1757322358109,
     "user": {
      "displayName": "Oli Ataeva",
      "userId": "12190890153830891681"
     },
     "user_tz": -180
    },
    "id": "aLkXDspffpiA",
    "outputId": "e7d46ddb-4560-441b-d424-0bf5962dd416"
   },
   "outputs": [
    {
     "name": "stdout",
     "output_type": "stream",
     "text": [
      "БЖУР192, "
     ]
    }
   ],
   "source": [
    "# в фигурных скобках количество повторений заданного символа, в этом случае мы ищем 3 числа после слова БЖУР\n",
    "string = 'Самые умные студенты учатся в группе БЖУР192'\n",
    "\n",
    "match_ = re.search(r'БЖУР\\d{3}', string)\n",
    "if match_:\n",
    "    print(match_.group(), end = ', ')"
   ]
  },
  {
   "cell_type": "code",
   "execution_count": null,
   "metadata": {
    "colab": {
     "base_uri": "https://localhost:8080/"
    },
    "id": "uXh8slFMfpiA",
    "outputId": "279b0b6b-51d2-450d-d6e3-0d8435087cf7"
   },
   "outputs": [
    {
     "name": "stdout",
     "output_type": "stream",
     "text": [
      "1234, 1234, 1234, "
     ]
    }
   ],
   "source": [
    "# в этом случае мы ищем строки из 4 чисел\n",
    "import re\n",
    "#r'\\d{4}' — это регулярное выражение, которое ищет точно 4 последовательные цифры (\\d обозначает цифру, {4} — ровно 4 повторения).\n",
    "\n",
    "# Мы перебираем список строк all_strings и для каждой строки проверяем, есть ли в ней последовательность из 4 цифр.\n",
    "# Если такая последовательность найдена, мы выводим её на экран с помощью match.group().\n",
    "# Если в строке нет такой последовательности, ничего не выводится.\n",
    "# Таким образом, этот код позволяет найти и вывести все строки из списка, которые содержат ровно 4 последовательные цифры.\n",
    "all_strings = ['1', '12', '123','1234', '12345', '123456']\n",
    "for element in all_strings:\n",
    "    match = re.search(r'\\d{4}', element)\n",
    "    if match:\n",
    "        print(match.group(), end = ', ')"
   ]
  },
  {
   "cell_type": "code",
   "execution_count": null,
   "metadata": {
    "colab": {
     "base_uri": "https://localhost:8080/"
    },
    "id": "I_1P4-HkfpiA",
    "outputId": "0d51ba59-ea48-4623-e6a8-1c1b36e01f0f"
   },
   "outputs": [
    {
     "name": "stdout",
     "output_type": "stream",
     "text": [
      "1234, 12345, 123456, "
     ]
    }
   ],
   "source": [
    "# убрали ограничение на количество цифр и # в этом случае мы ищем строки из 4 чисел\n",
    "all_strings = ['1', '12', '123','1234', '12345', '123456']\n",
    "for element in all_strings:\n",
    "    match = re.search(r'\\d{4,}', element)\n",
    "    if match:\n",
    "        print(match.group(), end = ', ')"
   ]
  },
  {
   "cell_type": "code",
   "execution_count": null,
   "metadata": {
    "colab": {
     "base_uri": "https://localhost:8080/"
    },
    "id": "wXQRaqDdfpiB",
    "outputId": "4898fea9-6a63-4a36-cedd-8fec037216f7"
   },
   "outputs": [
    {
     "name": "stdout",
     "output_type": "stream",
     "text": [
      "1234, "
     ]
    }
   ],
   "source": [
    "import re\n",
    "#r'^\\d{4}$' — это регулярное выражение, которое ищет ровно 4 последовательные цифры в всей строке\n",
    "#^ — якорь начала строки (соответствует только если последовательность начинается с самого начала).\n",
    "#\\d{4} — ровно 4 цифры.\n",
    "#$ — якорь конца строки (соответствует только если последовательность заканчивается в самом конце, без лишних символов).\n",
    "\n",
    "all_strings = ['1', '12', '123','1234', '12345', '123456']\n",
    "for element in all_strings:\n",
    "    match = re.search(r'^\\d{4}$', element)\n",
    "    if match:\n",
    "        print(match.group(), end = ', ')"
   ]
  },
  {
   "cell_type": "code",
   "execution_count": null,
   "metadata": {
    "colab": {
     "base_uri": "https://localhost:8080/"
    },
    "id": "B1frPYMKfpiB",
    "outputId": "03d5df5c-fc2f-4c01-e0dd-27337753d7ed"
   },
   "outputs": [
    {
     "name": "stdout",
     "output_type": "stream",
     "text": [
      "Брэд Питт, брэд Питт, брэд питт, "
     ]
    }
   ],
   "source": [
    "# зададим условие для поиска правильных Брэд Питтов\n",
    "# Брэдд Питт не обижается, если его имя пишут с маленькой буквы\n",
    "# но ему неприятно, если между именем и фамилией нет символа табуляции\n",
    "all_strings = ['Брэд Питт', 'брэд Питт', 'брэд питт', 'брэд_питт', 'Брэд666Питт']\n",
    "for element in all_strings:\n",
    "    match = re.search(r'[Бб]рэд\\s[Пп]итт', all_strings)\n",
    "    if match:\n",
    "        print(match.group(), end = ', ')"
   ]
  },
  {
   "cell_type": "markdown",
   "metadata": {
    "id": "huFHLDcbo3aj"
   },
   "source": [
    "#### Работа с заглавными буквами"
   ]
  },
  {
   "cell_type": "code",
   "execution_count": 21,
   "metadata": {
    "colab": {
     "base_uri": "https://localhost:8080/"
    },
    "executionInfo": {
     "elapsed": 20,
     "status": "ok",
     "timestamp": 1757322789204,
     "user": {
      "displayName": "Oli Ataeva",
      "userId": "12190890153830891681"
     },
     "user_tz": -180
    },
    "id": "SgKxHtMOfpiB",
    "outputId": "d2bf994d-5fc5-417e-ba58-c8991075ede9"
   },
   "outputs": [
    {
     "name": "stdout",
     "output_type": "stream",
     "text": [
      "у любви у нашей села батарейка ООООООЁЁЁЁИИЯЯЯЯЯИИИЁЁЁЁЁЁЁЁ БАТАРЕЙКА\n"
     ]
    }
   ],
   "source": [
    "# Выведите все слова\n",
    "# загадочная буква ё, на которой всё ломается\n",
    "st = 'у любви у нашей села батарейка ООООООЁЁЁЁИИЯЯЯЯЯИИИЁЁЁЁЁЁЁЁ БАТАРЕЙКА'\n",
    "print(re.search(r'[A-Яа-я\\s]+', st).group(0))"
   ]
  },
  {
   "cell_type": "code",
   "execution_count": null,
   "metadata": {
    "colab": {
     "base_uri": "https://localhost:8080/"
    },
    "id": "tWLrL4xLfpiC",
    "outputId": "2dfbb1cc-0149-4720-ed40-2c600db2df20"
   },
   "outputs": [
    {
     "name": "stdout",
     "output_type": "stream",
     "text": [
      "у любви у нашей села батарейка ООООООЁЁЁЁИИЯЯЯЯЯИИИЁЁЁЁЁЁЁЁ БАТАРЕЙКА\n"
     ]
    }
   ],
   "source": [
    "#как исправить? не забыть добавить Ё после а-я!\n",
    "st = 'у любви у нашей села батарейка ООООООЁЁЁЁИИЯЯЯЯЯИИИЁЁЁЁЁЁЁЁ БАТАРЕЙКА'\n",
    "### ДОПИШИТЕ КОД"
   ]
  },
  {
   "cell_type": "markdown",
   "metadata": {
    "id": "Sw2vRAaBo9u9"
   },
   "source": [
    "Кстати, для обозначения заглавных букв нередко употребляют жаргонизм *капитализация* от английского слова capital (letter). Не пугайтесь, эта капитализация не имеет ничего общего с финансами, а просто поясняет, какими буквами написано слово.\n",
    "\n",
    "Для того, чтобы привести все буквы к нижнему регистру используется метод `string.lower()`, а к верхнему - `string.upper()`."
   ]
  },
  {
   "cell_type": "code",
   "execution_count": null,
   "metadata": {
    "colab": {
     "base_uri": "https://localhost:8080/"
    },
    "id": "JpR5GgOlpi_F",
    "outputId": "d1a2f87f-4af3-4589-d183-dbce34883aa0"
   },
   "outputs": [
    {
     "name": "stdout",
     "output_type": "stream",
     "text": [
      "у любви у нашей села батарейка ооооооёёёёиияяяяяиииёёёёёёёё батарейка\n",
      "У ЛЮБВИ У НАШЕЙ СЕЛА БАТАРЕЙКА ООООООЁЁЁЁИИЯЯЯЯЯИИИЁЁЁЁЁЁЁЁ БАТАРЕЙКА\n"
     ]
    }
   ],
   "source": [
    "st = 'у любви у нашей села батарейка ООООООЁЁЁЁИИЯЯЯЯЯИИИЁЁЁЁЁЁЁЁ БАТАРЕЙКА'\n",
    "print(st.lower())\n",
    "print(st.upper())"
   ]
  },
  {
   "cell_type": "markdown",
   "metadata": {
    "id": "rU-4obYVpvuC"
   },
   "source": [
    "#### Примеры посложнее"
   ]
  },
  {
   "cell_type": "code",
   "execution_count": 24,
   "metadata": {
    "colab": {
     "base_uri": "https://localhost:8080/"
    },
    "executionInfo": {
     "elapsed": 14,
     "status": "ok",
     "timestamp": 1757322864055,
     "user": {
      "displayName": "Oli Ataeva",
      "userId": "12190890153830891681"
     },
     "user_tz": -180
    },
    "id": "Bp8uaAmWfpiC",
    "outputId": "6cd8e859-eaea-4a3b-fd3f-efeab717a972"
   },
   "outputs": [
    {
     "name": "stdout",
     "output_type": "stream",
     "text": [
      "iiiiii\n"
     ]
    }
   ],
   "source": [
    "## найдём в слове столько i, сколько возможно\n",
    "string = 'piiiiiig'\n",
    "match = re.search(r'i{1,}', string)\n",
    "print(match.group())"
   ]
  },
  {
   "cell_type": "code",
   "execution_count": null,
   "metadata": {
    "colab": {
     "base_uri": "https://localhost:8080/"
    },
    "id": "9viCuj50fpiD",
    "outputId": "d416d9e2-86bd-43d1-e171-506d8f1bb2ab"
   },
   "outputs": [
    {
     "name": "stdout",
     "output_type": "stream",
     "text": [
      "['ii', 'iiiiii']\n"
     ]
    }
   ],
   "source": [
    "\n",
    "import re\n",
    "#re.findall(r'i+', string) — находит все непустые последовательности символов i (группы из одного или более i):\n",
    "# r'i+' — регулярное выражение: i (символ i) с + (один или более раз).\n",
    "\n",
    "#findall() возвращает список всех совпадений (в отличие от search(), который возвращает объект Match для первого совпадения).\n",
    "\n",
    "#print(match) — выводит список: ['ii', 'iiiiii'] (две группы: из 2 и 6 символов i).\n",
    "string = 'piigiiiiii'\n",
    "match = re.findall(r'i+', string)\n",
    "print(match)"
   ]
  },
  {
   "cell_type": "code",
   "execution_count": 27,
   "metadata": {
    "colab": {
     "base_uri": "https://localhost:8080/"
    },
    "executionInfo": {
     "elapsed": 63,
     "status": "ok",
     "timestamp": 1757323015779,
     "user": {
      "displayName": "Oli Ataeva",
      "userId": "12190890153830891681"
     },
     "user_tz": -180
    },
    "id": "a_BloYp6fpiD",
    "outputId": "c64351d6-be73-4be6-bb62-df93916fe348"
   },
   "outputs": [
    {
     "name": "stdout",
     "output_type": "stream",
     "text": [
      "pig, pug, pigpugpig, pig_pug, "
     ]
    }
   ],
   "source": [
    "#теперь попробуем найти не только свиней, но и мопсов (pug - мопс)\n",
    "all_strings = ['pig', 'pog', 'pug', 'piug', 'pigpugpig', 'pig_pug']\n",
    "for element in all_strings:\n",
    "    match = re.search(r'(p[iu]g_*)+', element)\n",
    "    if match:\n",
    "        print(match.group(), end = ', ')"
   ]
  },
  {
   "cell_type": "code",
   "execution_count": 36,
   "metadata": {
    "colab": {
     "base_uri": "https://localhost:8080/"
    },
    "executionInfo": {
     "elapsed": 12,
     "status": "ok",
     "timestamp": 1757323207138,
     "user": {
      "displayName": "Oli Ataeva",
      "userId": "12190890153830891681"
     },
     "user_tz": -180
    },
    "id": "1Gnu-beQfpiD",
    "outputId": "31f5a139-3f63-49f1-9b92-60290eb5baa9"
   },
   "outputs": [
    {
     "name": "stdout",
     "output_type": "stream",
     "text": [
      "ха-ха, ха-хаха-ха-ха, , ха, "
     ]
    }
   ],
   "source": [
    "# посмеялись и хватит, давайте найдём строки где не больше 5и смешков\n",
    "# с условием, что кто-то смеётся с дефисом, а кто-то без\n",
    "all_strings = ['ха-ха', 'ха-хаха-ха-хаха-ха','хо-хоха-хахо-хохах-ах', 'хахоха']\n",
    "for element in all_strings:\n",
    "    match = re.search(r'(ха-*){,5}', element)\n",
    "    if match:\n",
    "        print(match.group(), end = ', ')"
   ]
  },
  {
   "cell_type": "markdown",
   "metadata": {
    "id": "1t1UvXZZfpiD"
   },
   "source": [
    "### Попробуем найти все e-mail'ы в строке"
   ]
  },
  {
   "cell_type": "code",
   "execution_count": 5,
   "metadata": {
    "colab": {
     "base_uri": "https://localhost:8080/"
    },
    "executionInfo": {
     "elapsed": 38,
     "status": "ok",
     "timestamp": 1757323293565,
     "user": {
      "displayName": "Oli Ataeva",
      "userId": "12190890153830891681"
     },
     "user_tz": -180
    },
    "id": "hB6wfkl2fpiE",
    "outputId": "acca4721-41dd-48bb-c213-ca442716573d"
   },
   "outputs": [
    {
     "name": "stdout",
     "output_type": "stream",
     "text": [
      "alice-b@google.com\n"
     ]
    }
   ],
   "source": [
    "# как бы мы делали раньше\n",
    "import re\n",
    "string = 'purple alice-b@google.com monkey dishwasher'\n",
    "match = re.search(r'\\w+[-_]\\w+@\\w+\\.\\w+', string) # что-то, потом @, потом ещё что-то\n",
    "if match:\n",
    "    print(match.group())"
   ]
  },
  {
   "cell_type": "markdown",
   "metadata": {
    "id": "mqSfeQs7fpiE"
   },
   "source": [
    "В этом случае поиск не дает полного адреса электронной почты, потому что `\\w` не соответствует дефису или точке в адресе. Исправим это, используя функции регулярных выражений ниже. Коды `\\w`, `\\s` и другие работают точно так же внутри квадратных скобок. Исключение - точка (.), которая внутри скобок означает просто буквальную точку.\n",
    "\n",
    "**Итак, собираем регулярное выражение:**\n",
    "\n",
    "1) `[\\w.-]` всё, что может находиться в адресе электронной почты\n",
    "\n",
    "2) `[\\w.-]+` добавим плюс, так как там может быть сколько угодно символов\n",
    "\n",
    "3) `[\\w.-]+@[\\w.-]+` посередине знак @, готово!"
   ]
  },
  {
   "cell_type": "code",
   "execution_count": null,
   "metadata": {
    "colab": {
     "base_uri": "https://localhost:8080/"
    },
    "id": "pYdnC0sYfpiE",
    "outputId": "a30f5848-55a5-48db-c927-70ae87668b00"
   },
   "outputs": [
    {
     "name": "stdout",
     "output_type": "stream",
     "text": [
      "alice-b@google.com\n"
     ]
    }
   ],
   "source": [
    "import re\n",
    "#r'\\S+@\\S+' — регулярное выражение для поиска email-адреса (простая версия):\n",
    "#\\S+ — один или более непробельных символов (до @ и после него).\n",
    "#@ — символ @.\n",
    "\n",
    "string = 'purple alice-b@google.com monkey dishwasher'\n",
    "match = re.search(r'\\S+@\\S+', string)\n",
    "if match:\n",
    "    print(match.group())"
   ]
  },
  {
   "cell_type": "markdown",
   "metadata": {
    "id": "7XnC3vpQfpiE"
   },
   "source": [
    "\n",
    "### Группировка\n",
    "\n",
    "Функция \"группировки\" регулярного выражения позволяет вам выделять части совпадающего текста. Предположим, что для проблемы электронной почты мы хотим извлечь имя пользователя и хост отдельно. Для этого добавьте круглые скобки () вокруг имени пользователя и хоста в шаблоне. В этом случае круглые скобки не меняют то, чему будет соответствовать шаблон, вместо этого они создают логические «группы» внутри текста соответствия. При успешном поиске `match.group(1)` - это текст совпадения, соответствующий 1-й левой круглой скобке, а `match.group(2)` - текст, соответствующий 2-й левой скобке. Обычный `match.group()`, как обычно, по-прежнему представляет собой весь текст соответствия."
   ]
  },
  {
   "cell_type": "code",
   "execution_count": null,
   "metadata": {
    "colab": {
     "base_uri": "https://localhost:8080/"
    },
    "id": "L_iRyb8MfpiE",
    "outputId": "47e8364e-9e42-4f0a-b4c7-54b4a90e5d41"
   },
   "outputs": [
    {
     "name": "stdout",
     "output_type": "stream",
     "text": [
      "alice-b@google.com\n",
      "alice-b\n",
      "google.com\n"
     ]
    }
   ],
   "source": [
    "string = 'purple alice-b@google.com monkey dishwasher'\n",
    "#([\\w.-]+) — первая группа, захватывающая имя пользователя (username) в адресе электронной почты\n",
    "#( — открывает захватывающую группу. Всё, что соответствует шаблону внутри скобок, сохраняется как подгруппа (доступна через match.group(1)).\n",
    "#\\w — соответствует любому словесному символу (буквы a-z, A-Z, цифры 0-9 или символ подчеркивания _).\n",
    "#. — соответствует буквальной точке (.). В regex точка — это специальный символ, поэтому её экранируют с помощью \\, чтобы она интерпретировалась как обычный символ точки.\n",
    "#- — соответствует буквальному дефису (-). Дефис не требует экранирования в данном контексте, так как он не находится в начале или конце набора символов.\n",
    "#[\\w.-] — это класс символов, который соответствует любому одному символу из следующих: словесный символ (\\w), точка (.), или дефис (-).\n",
    "#+ — означает, что предыдущий шаблон ([\\w.-]) должен повторяться один или более раз. То есть это строка из одного или более символов, которые могут быть буквами, цифрами, подчеркиванием, точками или дефисами.\n",
    "#) — закрывает захватывающую группу.\n",
    "match = re.search('([\\w.-]+)@([\\w.-]+)', string)\n",
    "if match:\n",
    "    print(match.group())   ## 'alice-b@google.com' (полное совпадение)\n",
    "    print(match.group(1))  ## 'alice-b' (юзернейм)\n",
    "    print(match.group(2))  ## 'google.com' (домен электронной почты)"
   ]
  },
  {
   "cell_type": "markdown",
   "metadata": {
    "id": "-8mVZ-qYfpiF"
   },
   "source": [
    "### Функции кроме search()\n",
    "\n",
    "`re.split(pattern, string, maxsplit=0)`\tАналог `str.split()`, только разделение происходит по подстрокам, подходящим под шаблон pattern;\n",
    "\n"
   ]
  },
  {
   "cell_type": "code",
   "execution_count": null,
   "metadata": {
    "colab": {
     "base_uri": "https://localhost:8080/"
    },
    "id": "PSYdNPrnqvMj",
    "outputId": "823335ef-8571-4e2f-c1be-e190c09480d0"
   },
   "outputs": [
    {
     "data": {
      "text/plain": [
       "['itsy,', 'bitsy,', 'teenie,', 'weenie']"
      ]
     },
     "execution_count": 203,
     "metadata": {},
     "output_type": "execute_result"
    }
   ],
   "source": [
    "# по умолчанию метод split делит строку по пробелам\n",
    "'itsy, bitsy, teenie, weenie'.split()"
   ]
  },
  {
   "cell_type": "code",
   "execution_count": null,
   "metadata": {
    "colab": {
     "base_uri": "https://localhost:8080/"
    },
    "id": "9cgGGjsHq3Ho",
    "outputId": "d9b04fe7-1133-4250-d302-766be53e9899"
   },
   "outputs": [
    {
     "data": {
      "text/plain": [
       "['itsy', ' bitsy', ' teenie', ' weenie']"
      ]
     },
     "execution_count": 204,
     "metadata": {},
     "output_type": "execute_result"
    }
   ],
   "source": [
    "#но можно добавить выражение, по которому мы делим\n",
    "'itsy, bitsy, teenie, weenie'.split(',')"
   ]
  },
  {
   "cell_type": "code",
   "execution_count": null,
   "metadata": {
    "colab": {
     "base_uri": "https://localhost:8080/"
    },
    "id": "8fye-PpWqqI5",
    "outputId": "c731c19b-f4b1-4bcb-d7f4-3b5daa7ac0b0"
   },
   "outputs": [
    {
     "name": "stdout",
     "output_type": "stream",
     "text": [
      "['itsy', ' bitsy', ' teenie', ' weenie']\n"
     ]
    }
   ],
   "source": [
    "# тоже самов с  re\n",
    "string = 'itsy, bitsy, teenie, weenie'\n",
    "result = re.split(',', string)\n",
    "print(result)"
   ]
  },
  {
   "cell_type": "code",
   "execution_count": null,
   "metadata": {
    "colab": {
     "base_uri": "https://localhost:8080/"
    },
    "id": "RNNSarNvrDBF",
    "outputId": "077ba773-e160-49eb-de5e-171217661088"
   },
   "outputs": [
    {
     "name": "stdout",
     "output_type": "stream",
     "text": [
      "['itsy', ' bitsy', ' teenie, weenie']\n"
     ]
    }
   ],
   "source": [
    "# можно указать максимальное количество разбиений\n",
    "string = 'itsy, bitsy, teenie, weenie'\n",
    "result = re.split(',', string, maxsplit = 2)\n",
    "print(result)"
   ]
  },
  {
   "cell_type": "code",
   "execution_count": null,
   "metadata": {
    "colab": {
     "base_uri": "https://localhost:8080/"
    },
    "id": "0oKEeC7brJ4H",
    "outputId": "9087ccfb-5ea4-4468-f0e2-58af8e1fcf99"
   },
   "outputs": [
    {
     "data": {
      "text/plain": [
       "['He woke up',\n",
       " 'He cooked berakfast',\n",
       " 'He drank coffee. He left home. He entered subway.']"
      ]
     },
     "execution_count": 207,
     "metadata": {},
     "output_type": "execute_result"
    }
   ],
   "source": [
    "import re  # Импортируем модуль re для работы с регулярными выражениями\n",
    "\n",
    "# Исходная строка, содержащая несколько предложений\n",
    "string = 'He woke up. He cooked berakfast. He drank coffee. He left home. He entered subway.'\n",
    "\n",
    "# Используем re.split() для разбиения строки по точкам с ограничением на 2 разбиения\n",
    "# \\. — экранированная точка, соответствует символу точки\n",
    "# maxsplit=2 — ограничивает количество разбиений до 2, чтобы получить не более 3 частей\n",
    "result = re.split(r'\\.', string, maxsplit=2)\n",
    "\n",
    "# Удаляем пробелы в начале и конце каждой части с помощью list comprehension\n",
    "result = [x.strip() for x in result]\n",
    "\n",
    "# Вывод результата\n",
    "print(result)"
   ]
  },
  {
   "cell_type": "code",
   "execution_count": null,
   "metadata": {
    "colab": {
     "base_uri": "https://localhost:8080/"
    },
    "id": "-j2XjCHbfpiF",
    "outputId": "c6d7fcea-0d7b-4398-c746-f121d9c8d363"
   },
   "outputs": [
    {
     "name": "stdout",
     "output_type": "stream",
     "text": [
      "['В моём сердце дырка', 'мне нужна таблетка']\n"
     ]
    }
   ],
   "source": [
    "import re  # Импортируем модуль re для работы с регулярными выражениями\n",
    "\n",
    "# Исходная строка\n",
    "string = 'В моём сердце дырка - мне нужна таблетка'\n",
    "\n",
    "# Используем re.split() для разбиения строки по дефису, окружённому пробелами\n",
    "# r'\\s*-\\s*' — шаблон, где:\n",
    "#   \\s* — ноль или более пробельных символов (включая пробелы или табуляцию)\n",
    "#   - — буквальный дефис\n",
    "#   \\s* — снова ноль или более пробельных символов\n",
    "result = re.split(r'\\s*-\\s*', string)\n",
    "\n",
    "# Удаляем пробелы в начале и конце каждой части с помощью list comprehension\n",
    "result = [x.strip() for x in result]\n",
    "\n",
    "# Вывод результата\n",
    "print(result)"
   ]
  },
  {
   "cell_type": "markdown",
   "metadata": {
    "id": "u7rt8PN_qfnu"
   },
   "source": [
    "`re.findall(pattern, string)`\t ищет в строке `string` **все** непересекающиеся шаблоны `pattern`\n",
    "\n"
   ]
  },
  {
   "cell_type": "code",
   "execution_count": 1,
   "metadata": {
    "colab": {
     "base_uri": "https://localhost:8080/"
    },
    "id": "fhRCFS6rrfVk",
    "outputId": "6cc87a67-c1b4-4e47-ac52-f4271fafb61f"
   },
   "outputs": [
    {
     "name": "stdout",
     "output_type": "stream",
     "text": [
      "['котиков', 'котят', 'котов']\n"
     ]
    }
   ],
   "source": [
    "import re  # Импортируем модуль re для работы с регулярными выражениями\n",
    "\n",
    "# Исходная строка\n",
    "string = 'я люблю котиков, кошечек, котят и котов.'\n",
    "\n",
    "# Используем re.findall() для поиска всех слов, начинающихся с \"кот\"\n",
    "# r'\\bкот\\w*\\b' — шаблон, где:\n",
    "#   \\b — граница слова (чтобы \"кот\" был началом слова)\n",
    "#   кот — буквальная подстрока \"кот\"\n",
    "#   \\w* — ноль или более словесных символов (буквы, цифры, подчеркивание)\n",
    "#   \\b — граница слова (чтобы слово завершалось)\n",
    "# Затем фильтруем результат, исключая \"кошечек\"\n",
    "result = [x for x in re.findall(r'\\bкот\\w*\\b', string) if x != 'кошечек']\n",
    "\n",
    "# Вывод результата\n",
    "print(result)"
   ]
  },
  {
   "cell_type": "code",
   "execution_count": 3,
   "metadata": {
    "id": "d1NqLnBifpiF"
   },
   "outputs": [
    {
     "name": "stdout",
     "output_type": "stream",
     "text": [
      "alice@google.com\n",
      "bob@abc.com\n",
      "alice.bob@google.com\n",
      "alice_bob@google.com\n"
     ]
    }
   ],
   "source": [
    "import re\n",
    "\n",
    "string = 'purple alice@google.com, blah monkey bob@abc.com blah dishwasher alice.bob@google.com, alice_bob@google.com,'\n",
    "\n",
    "# Используем re.finditer() для получения итератора по match-объектам\n",
    "emails = re.finditer(r'[\\w.-]+@[\\w.-]+\\.\\w+', string)\n",
    "\n",
    "# Проходим по match-объектам и выводим найденные email\n",
    "for match in emails:\n",
    "    print(match.group())  # match.group() возвращает полный email"
   ]
  },
  {
   "cell_type": "markdown",
   "metadata": {
    "id": "B6B6UyvTrgxe"
   },
   "source": [
    "`re.finditer(pattern, string)`\tИтератор по всем непересекающимся шаблонам `pattern` в строке `string` (выдаются match-объекты)\n",
    "\n"
   ]
  },
  {
   "cell_type": "code",
   "execution_count": 10,
   "metadata": {
    "colab": {
     "base_uri": "https://localhost:8080/"
    },
    "id": "Ly_HVhr1fpiF",
    "outputId": "61644fd3-5bfa-4338-e0e9-e4dd83fb53ce"
   },
   "outputs": [
    {
     "name": "stdout",
     "output_type": "stream",
     "text": [
      "Дата 27.03.2020 начинается с позиции 23\n",
      "Дата 1.11.2021 начинается с позиции 49\n"
     ]
    }
   ],
   "source": [
    "import re  # Импортируем модуль re для работы с регулярными выражениями\n",
    "\n",
    "# Исходная строка с датами\n",
    "string = 'Первый локдаун начался 27.03.2020, а последний - 1.11.2021'\n",
    "\n",
    "# Используем re.finditer() для поиска всех дат в формате день(1-2 цифры).месяц(2 цифры).год(4 цифры)\n",
    "# r'\\d{1,2}\\.\\d{2}\\.\\d{4}' — шаблон, где:\n",
    "#   \\d{1,2} — 1 или 2 цифры для дня (например, 1, 27)\n",
    "#   \\. — буквальная точка (экранируется, так как точка — специальный символ)\n",
    "#   \\d{2} — ровно 2 цифры для месяца (например, 03, 11)\n",
    "#   \\. — ещё одна буквальная точка\n",
    "#   \\d{4} — ровно 4 цифры для года (например, 2020, 2021)\n",
    "for match in re.finditer(r'\\d{1,2}\\.\\d{2}\\.\\d{4}', string):\n",
    "    # match.group() возвращает полную дату, match.start() — индекс начала совпадения в строке\n",
    "    print('Дата', match.group(), 'начинается с позиции', match.start())"
   ]
  },
  {
   "cell_type": "markdown",
   "metadata": {
    "id": "qN37N5a7tqS1"
   },
   "source": [
    "`re.match(pattern, string)`\tищет входения шаблона в НАЧАЛЕ строки"
   ]
  },
  {
   "cell_type": "code",
   "execution_count": 11,
   "metadata": {
    "colab": {
     "base_uri": "https://localhost:8080/"
    },
    "id": "oIKfHfvjteTH",
    "outputId": "0d2b0d76-1d91-4e1d-b7be-4c4e5de3e649"
   },
   "outputs": [
    {
     "name": "stdout",
     "output_type": "stream",
     "text": [
      "None\n"
     ]
    }
   ],
   "source": [
    "import re  # Импортируем модуль re для работы с регулярными выражениями\n",
    "\n",
    "# Исходная строка\n",
    "string = 'я люблю котиков, кошечек, котят и котов.'\n",
    "\n",
    "# Используем re.match() для поиска слова, связанного с котами, в начале строки\n",
    "# r'\\bкот\\w*\\b' — шаблон, где:\n",
    "#   \\b — граница слова\n",
    "#   кот — буквальная подстрока \"кот\"\n",
    "#   \\w* — ноль или более словесных символов (буквы, цифры, подчеркивание)\n",
    "#   \\b — граница слова\n",
    "result = re.match(r'\\bкот\\w*\\b', string)\n",
    "\n",
    "# Выводим результат\n",
    "print(result)"
   ]
  },
  {
   "cell_type": "code",
   "execution_count": null,
   "metadata": {
    "colab": {
     "base_uri": "https://localhost:8080/"
    },
    "id": "_fouV3eQuK6C",
    "outputId": "a630e08a-e4fa-470e-edec-72c228e28d3a"
   },
   "outputs": [
    {
     "name": "stdout",
     "output_type": "stream",
     "text": [
      "кот\n"
     ]
    }
   ],
   "source": [
    "import re  # Импортируем модуль re для работы с регулярными выражениями\n",
    "\n",
    "# Исходная строка\n",
    "string = 'кот сидел на коврике'\n",
    "\n",
    "# Используем re.match() для поиска слова \"кот\" в начале строки\n",
    "# r'\\bкот\\b' — шаблон, где:\n",
    "#   \\b — граница слова, чтобы найти только целое слово \"кот\"\n",
    "#   кот — буквальная подстрока \"кот\"\n",
    "#   \\b — граница слова, чтобы исключить совпадения внутри других слов\n",
    "result = re.match(r'\\bкот\\b', string)\n",
    "\n",
    "# Выводим полное совпадение\n",
    "print(result.group(0))"
   ]
  },
  {
   "cell_type": "markdown",
   "metadata": {
    "id": "AUE7c0D9sSOD"
   },
   "source": [
    "`re.sub(pattern, repl, string, count=0)`\tзаменяет в строке `string` все непересекающиеся шаблоны `pattern` на `repl`"
   ]
  },
  {
   "cell_type": "code",
   "execution_count": null,
   "metadata": {
    "colab": {
     "base_uri": "https://localhost:8080/"
    },
    "id": "jHOVbezwscdy",
    "outputId": "50e9db9c-7e6a-47f5-9161-272d8c0ac3e9"
   },
   "outputs": [
    {
     "name": "stdout",
     "output_type": "stream",
     "text": [
      "Момо мыло рому.\n"
     ]
    }
   ],
   "source": [
    "import re  # Импортируем модуль re для работы с регулярными выражениями\n",
    "\n",
    "# Исходная строка, содержащая текст с упоминаниями организаций\n",
    "string = ('Недавно Аль-Каида совместо с Аль-Джихадом признала себя виновной '\n",
    "          'в совершении тяжких преступлений, в отношении Талибов так же будут приняты ответные меры')\n",
    "\n",
    "# Используем re.sub() для замены слов, соответствующих шаблону\n",
    "# r'Аль\\-\\w+|Талиб\\w+' — шаблон регулярного выражения:\n",
    "#   Аль\\- — соответствует буквальной подстроке \"Аль-\" (дефис экранируется как \\-)\n",
    "#   \\w+ — одна или более букв, цифр или подчеркиваний после \"Аль-\"\n",
    "#   | — логическое \"ИЛИ\", разделяет два варианта шаблона\n",
    "#   Талиб — соответствует буквальной подстроке \"Талиб\"\n",
    "#   \\w+ — одна или более букв, цифр или подчеркиваний после \"Талиб\"\n",
    "# 'запрещенная в россии террористическая организация'.upper() — строка замены, преобразованная в верхний регистр\n",
    "# string — входная строка, в которой выполняется замена\n",
    "result = re.sub(\n",
    "    r'Аль\\-\\w+|Талиб\\w+',  # Шаблон для поиска слов, начинающихся с \"Аль-\" или \"Талиб\"\n",
    "    'запрещенная в россии террористическая организация'.upper(),  # Заменяем на эту строку в верхнем регистре\n",
    "    string  # Исходная строка\n",
    ")\n",
    "\n",
    "# Выводим результат\n",
    "print(result)"
   ]
  },
  {
   "cell_type": "code",
   "execution_count": null,
   "metadata": {
    "colab": {
     "base_uri": "https://localhost:8080/"
    },
    "id": "xupvDUhmsd_t",
    "outputId": "5171458d-24ce-416a-cad3-0dad3b007900"
   },
   "outputs": [
    {
     "name": "stdout",
     "output_type": "stream",
     "text": [
      "Момо мыло раму.\n"
     ]
    }
   ],
   "source": [
    "import re  # Импортируем модуль re для работы с регулярными выражениями\n",
    "\n",
    "# Исходная строка\n",
    "string = 'Мама мыла раму.'\n",
    "\n",
    "# Используем re.sub() для замены первых двух вхождений \"а\" на \"о\"\n",
    "# r'а' — шаблон, соответствующий букве \"а\"\n",
    "# 'о' — строка, на которую заменяем\n",
    "# count=2 — ограничиваем количество замен до двух\n",
    "result = re.sub(r'а', 'о', string, count=2)\n",
    "\n",
    "# Вывод результата\n",
    "print(result)"
   ]
  },
  {
   "cell_type": "code",
   "execution_count": 9,
   "metadata": {
    "colab": {
     "base_uri": "https://localhost:8080/"
    },
    "id": "y3al_62CfpiF",
    "outputId": "eadee1c1-78d9-4e4f-8b17-8a8f335f75a7"
   },
   "outputs": [
    {
     "name": "stdout",
     "output_type": "stream",
     "text": [
      "Недавно ЗАПРЕЩЕННАЯ В РОССИИ ТЕРРОРИСТИЧЕСКАЯ ОРГАНИЗАЦИЯ совместо с ЗАПРЕЩЕННАЯ В РОССИИ ТЕРРОРИСТИЧЕСКАЯ ОРГАНИЗАЦИЯ признала себя виновной в совершении тяжких преступлений, в отношении ЗАПРЕЩЕННАЯ В РОССИИ ТЕРРОРИСТИЧЕСКАЯ ОРГАНИЗАЦИЯ так же будут приняты ответные меры\n"
     ]
    }
   ],
   "source": [
    "import re # Импортируем модуль re для работы с регулярными выражениями\n",
    "\n",
    "# Исходная строка, содержащая текст с упоминаниями организаций\n",
    "string = ('Недавно Аль-Каида совместо с Аль-Джихадом признала себя виновной '\n",
    " 'в совершении тяжких преступлений, в отношении Талибов так же будут приняты ответные меры')\n",
    "\n",
    "# Используем re.sub() для замены слов, соответствующих шаблону\n",
    "# r'Аль\\-\\w+|Талиб\\w+' — шаблон регулярного выражения:\n",
    "# Аль\\- — соответствует буквальной подстроке \"Аль-\" (дефис экранируется как \\-)\n",
    "# \\w+ — одна или более букв, цифр или подчеркиваний после \"Аль-\"\n",
    "# | — логическое \"ИЛИ\", разделяет два варианта шаблона\n",
    "# Талиб — соответствует буквальной подстроке \"Талиб\"\n",
    "# \\w+ — одна или более букв, цифр или подчеркиваний после \"Талиб\"\n",
    "# 'запрещенная в россии террористическая организация'.upper () — строка замены, преобразованная в верхний регистр\n",
    "# string — входная строка, в которой выполняется замена\n",
    "result = re.sub(\n",
    " r'Аль\\-\\w+|Талиб\\w+', # Шаблон для поиска слов, начинающихся с \"Аль-\" или \"Талиб\"\n",
    " 'запрещенная в россии террористическая организация'.upper(), # Заменяем на эту строку в верхнем регистре\n",
    " string # Исходная строка\n",
    ")\n",
    "\n",
    "# Выводим результат\n",
    "print(result)"
   ]
  },
  {
   "cell_type": "markdown",
   "metadata": {
    "id": "ggtXO3B_uj8p"
   },
   "source": [
    "`re.compile` компилирует регулярное выражение в отдельный объект"
   ]
  },
  {
   "cell_type": "code",
   "execution_count": 7,
   "metadata": {
    "id": "3mFwl3vwujNk"
   },
   "outputs": [
    {
     "name": "stdout",
     "output_type": "stream",
     "text": [
      "['Слова', 'Да', 'больше', 'больше', 'слов', 'Что-то']\n"
     ]
    }
   ],
   "source": [
    "import re  # Импортируем модуль re для работы с регулярными выражениями\n",
    "\n",
    "# Исходная строка\n",
    "string = \"Слова? Да, больше, ещё больше слов! Что-то ещё.\"\n",
    "\n",
    "# Компилируем регулярное выражение для поиска всех слов\n",
    "# r'\\b[а-яА-Яa-zA-Z]+(?:-[а-яА-Яa-zA-Z]+)*\\b' — шаблон, где:\n",
    "#   \\b — граница слова\n",
    "#   [а-яА-Яa-zA-Z]+ — одна или более букв (кириллические или латинские)\n",
    "#   (?:-[а-яА-Яa-zA-Z]+)* — необязательные группы с дефисом и буквами (для слов типа \"Что-то\")\n",
    "#   \\b — граница слова\n",
    "prog = re.compile(r'\\b[а-яА-Яa-zA-Z]+(?:-[а-яА-Яa-zA-Z]+)*\\b')\n",
    "\n",
    "# Используем findall() для поиска всех слов\n",
    "result = prog.findall(string)\n",
    "\n",
    "# Вывод результата\n",
    "print(result)"
   ]
  },
  {
   "cell_type": "code",
   "execution_count": 6,
   "metadata": {
    "colab": {
     "base_uri": "https://localhost:8080/"
    },
    "id": "FF0XO2WZuv6l",
    "outputId": "86067f3c-e338-4fb5-b079-f12bfe5c0ce2"
   },
   "outputs": [
    {
     "name": "stdout",
     "output_type": "stream",
     "text": [
      "['Слова', 'больше', 'больше', 'слов']\n"
     ]
    }
   ],
   "source": [
    "import re  # Импортируем модуль re для работы с регулярными выражениями\n",
    "\n",
    "# Исходная строка\n",
    "string = \"Слова? Да, больше, ещё больше слов! Что-то ещё.\"\n",
    "\n",
    "# Компилируем регулярное выражение для поиска слов длиннее трёх символов\n",
    "# r'\\b[а-яА-Яa-zA-Z]{4,}\\b' — шаблон, где:\n",
    "#   \\b — граница слова\n",
    "#   [а-яА-Яa-zA-Z] — любая буква (кириллическая или латинская)\n",
    "#   {4,} — четыре или более букв\n",
    "#   \\b — граница слова\n",
    "prog = re.compile(r'\\b[а-яА-Яa-zA-Z]{4,}\\b')\n",
    "\n",
    "# Используем findall() для поиска всех подходящих слов\n",
    "result = prog.findall(string)\n",
    "\n",
    "# Вывод результата\n",
    "print(result)"
   ]
  },
  {
   "cell_type": "code",
   "execution_count": 5,
   "metadata": {
    "colab": {
     "base_uri": "https://localhost:8080/",
     "height": 35
    },
    "id": "L4V2xWgTu5xA",
    "outputId": "15769200-3e8d-4eee-fda9-16705f36d521"
   },
   "outputs": [
    {
     "name": "stdout",
     "output_type": "stream",
     "text": [
      "Слова\n"
     ]
    }
   ],
   "source": [
    "import re  # Импортируем модуль re для работы с регулярными выражениями\n",
    "\n",
    "# Исходная строка\n",
    "string = \"Слова? Да, больше, ещё больше слов! Что-то ещё.\"\n",
    "\n",
    "# Компилируем регулярное выражение для поиска первого слова\n",
    "# r'^\\w+' — шаблон, где:\n",
    "#   ^ — начало строки\n",
    "#   \\w+ — одна или более букв, цифр или подчеркиваний (словесные символы)\n",
    "prog = re.compile(r'^\\w+')\n",
    "\n",
    "# Используем match() для поиска совпадения с начала строки\n",
    "# group(0) возвращает полное совпадение\n",
    "result = prog.match(string).group(0)\n",
    "\n",
    "# Вывод результата\n",
    "print(result)"
   ]
  },
  {
   "cell_type": "markdown",
   "metadata": {
    "id": "SstH50KssJlu"
   },
   "source": [
    "\n",
    "\n",
    "`re.IGNORECASE` позволяет не различать заглавные и маленькие буквы. Работает медленнее, но иногда удобно."
   ]
  },
  {
   "cell_type": "code",
   "execution_count": null,
   "metadata": {
    "colab": {
     "base_uri": "https://localhost:8080/"
    },
    "id": "wz6n64IxfpiF",
    "outputId": "5f6b9db0-961c-4253-9c3e-6b7a13db9339"
   },
   "outputs": [
    {
     "name": "stdout",
     "output_type": "stream",
     "text": [
      "['ОООО', 'ааааа', 'оооо', 'ММММ', 'мМммМММм']\n"
     ]
    }
   ],
   "source": [
    "import re # Импортируем модуль re для работы с регулярными выражениями\n",
    "\n",
    "# Исходная строка\n",
    "string = 'ОООО ааааа оооо ММММ мМммМММм'\n",
    "\n",
    "# Используем re.findall() для поиска всех последовательностей одинаковых букв\n",
    "# r'(\\w)\\1*' — шаблон, где:\n",
    "# (\\w) — захватывает один словесный символ (буква, цифра, подчеркивание)\n",
    "# \\1* — повторяет захваченный символ ноль или более раз\n",
    "# Флаг re.IGNORECASE не нужен, так как мы хотим точное совпадение букв\n",
    "result = re.findall(r'(\\w)\\1*', string)\n",
    "\n",
    "# Вывод результата\n",
    "print(result)"
   ]
  },
  {
   "cell_type": "markdown",
   "metadata": {
    "id": "XdaG5xfUfpiF"
   },
   "source": [
    "### Где потренироваться в регулярных выражениях?\n",
    "\n",
    "* [https://pythex.org/](https://pythex.org/)\n",
    "\n",
    "* [https://regex101.com/r/F8dY80/3](https://regex101.com/r/F8dY80/3)"
   ]
  },
  {
   "cell_type": "markdown",
   "metadata": {
    "id": "gnTK9EexfpiG"
   },
   "source": [
    "### Cамостоятельные задачки для самых активных NLPшников\n"
   ]
  },
  {
   "cell_type": "markdown",
   "metadata": {
    "id": "501ykbjhiGhP"
   },
   "source": [
    "#### Текст для примера для задач 1-3\n",
    "\n",
    "Сегодня в пресс-релизе МИД РФ и NASA ESA, а также ООН ЮНЕСКО, объявили о совместном пилотном проекте. Во встрече в Берлине приняли участие Анна Петрова и Михаил Иванов, а координатором выступил Виктор Сергеев. Компания ООО РОМАШКА и НИИ МЕХАНИКИ обязались подготовить отчёт до 05.03.2007, тогда как рабочую сессию перенесли на 7/11/07; резервная дата указана как 12-04-07. Кроме того, НАТО и ЦУМ поддержали информационную кампанию, ИП ПЕТРОВ выступит подрядчиком по логистике, а консультантом станет Екатерина Смирнова. Вчера я обсуждал детали с Иваном в кафе на набережной Волги и отправил письмо в адрес ESA и МИД РФ."
   ]
  },
  {
   "cell_type": "markdown",
   "metadata": {
    "id": "IK-Kzi8hfpiG"
   },
   "source": [
    "\n",
    "\n",
    "**Задача №1**\n",
    "\n",
    "Собрать все аббревиатуры\n",
    "\n",
    "Будем считать аббревиатурой слова только лишь из заглавных букв (как минимум из двух). Если несколько таких слов разделены пробелами, то они считаются одной аббревиатурой."
   ]
  },
  {
   "cell_type": "code",
   "execution_count": null,
   "metadata": {},
   "outputs": [
    {
     "name": "stdout",
     "output_type": "stream",
     "text": [
      "['МИД РФ', 'NASA ESA', 'ООН ЮНЕСКО', 'ООО РОМАШКА', 'НИИ МЕХАНИКИ', 'НАТО', 'ЦУМ', 'ИП ПЕТРОВ', 'ESA', 'МИД РФ']\n"
     ]
    }
   ],
   "source": [
    "# Текст, в котором будем искать аббревиатуры\n",
    "text = \"Сегодня в пресс-релизе МИД РФ и NASA ESA, а также ООН ЮНЕСКО, объявили о совместном пилотном проекте. Во встрече в Берлине приняли участие Анна Петрова и Михаил Иванов, а координатором выступил Виктор Сергеев. Компания ООО РОМАШКА и НИИ МЕХАНИКИ обязались подготовить отчёт до 05.03.2007, тогда как рабочую сессию перенесли на 7/11/07; резервная дата указана как 12-04-07. Кроме того, НАТО и ЦУМ поддержали информационную кампанию, ИП ПЕТРОВ выступит подрядчиком по логистике, а консультантом станет Екатерина Смирнова. Вчера я обсуждал детали с Иваном в кафе на набережной Волги и отправил письмо в адрес ESA и МИД РФ.\"\n",
    "# Регулярное выражение\n",
    "pattern = r'[A-ZА-ЯЁ]{2,}(?:\\s[A-ZА-ЯЁ]{2,})*\\b'\n",
    "# Находит все совпадения, соответствующие паттерну\n",
    "matches = re.findall(pattern, text)\n",
    "# Выводит список найденных аббревиатур\n",
    "print(matches)\n",
    "#[A-ZА-ЯЁ] — множество символов, сюда входят все заглавные латинские буквы от A до Z, а также заглавные русские буквы от А до Я и буква Ё. Это означает, что в этом месте регулярное выражение ищет один заглавный символ из этих диапазонов.\n",
    "#{2,} — квантификатор, который означает две и более повторений предыдущего символа или группы. \n",
    "#(?: ... ) — незахватывающая группа, то есть группа, которая объединяет часть выражения, но не создает отдельного подмассива захвата для результата. Используется для логики компоновки.\n",
    "#\\s — соответствует любому пробельному символу (пробел, табуляция, перевод строки и т.п.).\n",
    "#[A-ZА-ЯЁ]{2,} — то же, что и в первой части, слово из минимум двух заглавных букв.\n",
    "#(?:\\s[A-ZА-ЯЁ]{2,})*\n",
    "#\\b - граница слова"
   ]
  },
  {
   "cell_type": "markdown",
   "metadata": {
    "id": "Vy6Au6itfpiG"
   },
   "source": [
    "**Задача №2**\n",
    "\n",
    "Найти дату в строке. В отличие от прошлого примера год может записыватьс двумя способами - 2007 или 07, то есть 4 или 2 символа, вывести месяц."
   ]
  },
  {
   "cell_type": "code",
   "execution_count": null,
   "metadata": {},
   "outputs": [
    {
     "name": "stdout",
     "output_type": "stream",
     "text": [
      "Найденные месяцы: ['03', '11', '04']\n"
     ]
    }
   ],
   "source": [
    "# Текст, в котором будем искать аббревиатуры\n",
    "text = \"Сегодня в пресс-релизе МИД РФ и NASA ESA, а также ООН ЮНЕСКО, объявили о совместном пилотном проекте. Во встрече в Берлине приняли участие Анна Петрова и Михаил Иванов, а координатором выступил Виктор Сергеев. Компания ООО РОМАШКА и НИИ МЕХАНИКИ обязались подготовить отчёт до 05.03.2007, тогда как рабочую сессию перенесли на 7/11/07; резервная дата указана как 12-04-07. Кроме того, НАТО и ЦУМ поддержали информационную кампанию, ИП ПЕТРОВ выступит подрядчиком по логистике, а консультантом станет Екатерина Смирнова. Вчера я обсуждал детали с Иваном в кафе на набережной Волги и отправил письмо в адрес ESA и МИД РФ.\"\n",
    "# Регулярное выражение\n",
    "# (\\d{1,2}) - захват дня (1 или 2 цифры)\n",
    "# [./-] - разделитель (точка, слеш или дефис)\n",
    "# (\\d{1,2})\n",
    "# \\d обозначает любую цифру от 0 до 9 \n",
    "# (\\d{2}|\\d{4}) - год, либо 2 цифры, либо 4 цифры\n",
    "pattern = r'(\\d{1,2})[./-](\\d{1,2})[./-](\\d{2}|\\d{4})'\n",
    "\n",
    "# Функция re.findall() из модуля re ищет все неперекрывающиеся совпадения\n",
    "\n",
    "matches = re.findall(pattern, text)\n",
    "\n",
    "# Выводим только месяц из всех найденных дат\n",
    "\n",
    "months = [match[1] for match in matches]\n",
    "\n",
    "print(\"Найденные месяцы:\", months)\n",
    "\n",
    "\n"
   ]
  },
  {
   "cell_type": "markdown",
   "metadata": {
    "id": "7wjR8fpdfpiG"
   },
   "source": [
    "**Задача №3**\n",
    "\n",
    "Найти все имена собственные в тексте. Случаи, когда предложение начинается с имени собственного, можно игнорировать.\n",
    "\n",
    "В данном случае, будем считать что имя собственное - слово, начинающеся с большой буквы. Случаи, когда предложение начинается с имени собственного, можно игнорировать."
   ]
  },
  {
   "cell_type": "code",
   "execution_count": null,
   "metadata": {},
   "outputs": [
    {
     "name": "stdout",
     "output_type": "stream",
     "text": [
      "Найденные имена собственные (не в начале предложения): ['Берлине', 'Анна', 'Петрова', 'Михаил', 'Иванов', 'Виктор', 'Сергеев']\n"
     ]
    }
   ],
   "source": [
    "text = \"Сегодня в пресс-релизе МИД РФ и NASA ESA, а также ООН ЮНЕСКО, объявили о совместном пилотном проекте. Во встрече в Берлине приняли участие Анна Петрова и Михаил Иванов, а координатором выступил Виктор Сергеев. Компания ООО РОМАШКА и НИИ МЕХАНИКИ обязались подготовить отчёт до 05.03.2007, тогда как рабочую сессию перенесли на 7/11/07; резервная дата указана как 12-04-07. Кроме того, НАТО и ЦУМ поддержали информационную кампанию, ИП ПЕТРОВ выступит подрядчиком по логистике, а консультантом станет Екатерина Смирнова. Вчера я обсуждал детали с Иваном в кафе на набережной Волги и отправил письмо в адрес ESA и МИД РФ.\"\n",
    "\n",
    "#(?<! ... ) - это конструкция негативного просмотра назад проверяет что перед текущей позицией НЕ находится указанный в скобках шаблон.\n",
    "\n",
    "#[.!?] - символьный класс, сопоставляющий один символ из множества: точка ., восклицательный знак ! или вопросительный знак ?\n",
    "\n",
    "# \\s - пробельный символ, любой из этих: пробел, табуляция, перевод строки \n",
    "\n",
    "# (?!<[.!?]\\s) означает: перед рассматриваемой позицией в строке не должно стоять сочетание \"знак конца предложения (., !, ?) + пробел\"\n",
    "\n",
    "# \\b - граница слова, гарантирует, что поиск начинается на границе слова.\n",
    "\n",
    "#[А-ЯЁ] - одна заглавная буква русского алфавита включая букву Ё\n",
    "\n",
    "#[а-яё]+ один или более символов из строчных букв русского алфавита, включая букву ё\n",
    "\n",
    "# \\b - граница слова в конце, чтобы слово было целиком\n",
    "\n",
    "import re\n",
    "\n",
    "text = \"Сегодня в пресс-релизе МИД РФ и NASA ESA, а также ООН ЮНЕСКО, объявили о совместном пилотном проекте. Во встрече в Берлине приняли участие Анна Петрова и Михаил Иванов, а координатором выступил Виктор Сергеев.\"\n",
    "\n",
    "# Регулярное выражение для поиска слов из одной заглавной буквы плюс маленькие, \n",
    "# которые не стоят в начале предложения. \n",
    "# Идея: захватываем слова с первой заглавной буквой, перед которыми есть пробел или знаки препинания, но не точка+пробел (начало предложения)\n",
    "pattern = r'(?<![.!?]\\s)(?<!^)\\b[А-ЯЁ][а-яё]+\\b'\n",
    "\n",
    "# Функция re.findall() из модуля re ищет все неперекрывающиеся совпадения\n",
    "\n",
    "matches = re.findall(pattern, text)\n",
    "\n",
    "print(\"Найденные имена собственные (не в начале предложения):\", matches)\n",
    "\n"
   ]
  },
  {
   "cell_type": "markdown",
   "metadata": {
    "id": "lwmxni2TiGhP"
   },
   "source": [
    "#### Это список строк для задач 5, 6\n",
    "\n",
    "list_of_strings = [\"ПриветМир\",\n",
    "                   \"abcXYZ\",\n",
    "                   \"МарияАнтуанетта\",\n",
    "                   \"über\",\n",
    "                   \"abc-xyz\",\n",
    "                   \"abc_123\",\n",
    "                   \"хлеб\",\n",
    "                   \"арбузб\",\n",
    "                   \"арбузБ\",\n",
    "                   \"баб\",\n",
    "                   \"ббабб\",\n",
    "                   \"б\",\n",
    "                   \"бббаббаб\",\n",
    "                   \"ба\",\n",
    "                   \"аб\",\n",
    "                   \"аба\",\n",
    "                   \"а\",\n",
    "                   \"Ваня Ваня пришёл вовремя\",\n",
    "                   \"что что это же очевидно бабушка\",\n",
    "                   \"мы просто говорим тут\",\n",
    "                   \"123 это строка и заканчивается словом финал\",\n",
    "                   \"+42 пример строки с числом в начале и словом на конце слово\",\n",
    "                   \"7 а тут в конце восклицание!\", \"В пещере цвет выцвел, и ворон каркнул громко.\",\n",
    "                   \"цветы не считаются, зато ворон тут есть.\", \"This is fine.\",\n",
    "                   \"The bag is empty.\",\n",
    "                   \"'Hello', she said softly.\",\n",
    "                   \"(Well) this is fine.\",\n",
    "                   \"It's nice.\",\n",
    "                   \"Re-enter the room.\"]"
   ]
  },
  {
   "cell_type": "markdown",
   "metadata": {
    "id": "X64-EnkAiGhP"
   },
   "source": [
    "### --Задание 5--\n",
    "\n",
    "Напишите регулярные выражения поиска.\n",
    "\n",
    "1. множества всех строк, состоящих только из букв;\n",
    "2. множества всех строк из строчных букв, оканчивающихся на букву б;\n",
    "3. множества всех строк над алфавитом {а, б}, в которых каждой букве a предшествует и за каторой слебуем буква б (то есть каждая a стоит в контексте бaб).\n",
    "\n",
    "### --Задание 6--\n",
    "Напишите регулярные выражения для поиска\n",
    "\n",
    "1. множества всех строк с двумя подряд идущими повторяющимися словами (например, «Ваня Ваня» и «что что», но не «что ты» и не «что ты наделал»);\n",
    "2. множества всех строк, которые начинаются в начале строки с целого числа и оканчиваются в конце строки словом;\n",
    "3. множества всех строк, в которых встречаются и слово «цвет», и слово «ворон» (но не, например, слова вроде «цветы», которые лишь содержат подстроку «цвет»);\n",
    "4. напишите шаблон, который помещает первое слово английского предложения в группу и помещает его в конец предложения. Учтите пунктуацию."
   ]
  },
  {
   "cell_type": "code",
   "execution_count": null,
   "metadata": {},
   "outputs": [
    {
     "name": "stdout",
     "output_type": "stream",
     "text": [
      "['ПриветМир', 'abcXYZ', 'МарияАнтуанетта', 'хлеб', 'арбузб', 'арбузБ', 'баб', 'ббабб', 'б', 'бббаббаб', 'ба', 'аб', 'аба', 'а']\n",
      "['хлеб', 'арбузб', 'баб', 'ббабб', 'бббаббаб', 'аб']\n",
      "['баб']\n"
     ]
    }
   ],
   "source": [
    "list_of_strings = [\"ПриветМир\",\n",
    "                   \"abcXYZ\",\n",
    "                   \"МарияАнтуанетта\",\n",
    "                   \"über\",\n",
    "                   \"abc-xyz\",\n",
    "                   \"abc_123\",\n",
    "                   \"хлеб\",\n",
    "                   \"арбузб\",\n",
    "                   \"арбузБ\",\n",
    "                   \"баб\",\n",
    "                   \"ббабб\",\n",
    "                   \"б\",\n",
    "                   \"бббаббаб\",\n",
    "                   \"ба\",\n",
    "                   \"аб\",\n",
    "                   \"аба\",\n",
    "                   \"а\",\n",
    "                   \"Ваня Ваня пришёл вовремя\",\n",
    "                   \"что что это же очевидно бабушка\",\n",
    "                   \"мы просто говорим тут\",\n",
    "                   \"123 это строка и заканчивается словом финал\",\n",
    "                   \"+42 пример строки с числом в начале и словом на конце слово\",\n",
    "                   \"7 а тут в конце восклицание!\", \"В пещере цвет выцвел, и ворон каркнул громко.\",\n",
    "                   \"цветы не считаются, зато ворон тут есть.\", \"This is fine.\",\n",
    "                   \"The bag is empty.\",\n",
    "                   \"'Hello', she said softly.\",\n",
    "                   \"(Well) this is fine.\",\n",
    "                   \"It's nice.\",\n",
    "                   \"Re-enter the room.\"]\n",
    "\n",
    "# Первое регулярное выражение множество всех строк, состоящих только из букв (как латинских, так и кириллических):\n",
    "\n",
    "#^[A-Za-zА-Яа-яЁё]+$\n",
    "\n",
    "# ^ — начало строки.\n",
    "\n",
    "# [A-Za-zА-Яа-яЁё] — любой символ из латинского (A-Z, a-z) или русского алфавита (А-Я, а-я, включая Ё и ё).\n",
    "\n",
    "# + — один или более таких символов.\n",
    "\n",
    "# $ — конец строки.\n",
    "\n",
    "# Множество всех строк из строчных букв, которые оканчиваются на букву \"б\":\n",
    "\n",
    "#^[а-яё]+б$\n",
    "\n",
    "#^ — начало строки.\n",
    "\n",
    "#[а-яё]+ — один или более строчных русских букв (включая букву ё).\n",
    "\n",
    "#б — последний символ должен быть именно буква \"б\".\n",
    "\n",
    "#$ — конец строки.\n",
    "\n",
    "# Множество всех строк над алфавитом {а, б}, в которых каждой букве а предшествует и за которой следует буква б. То есть каждая a стоит в контексте бaб:\n",
    "\n",
    "#^(баб)+$\n",
    "\n",
    "#^ — начало строки.\n",
    "\n",
    "#(баб)+ — один или более повторов последовательности баб.\n",
    "\n",
    "#$ — конец строки.\n",
    "\n",
    "strings = [\"Привет\", \"abcXYZ\", \"мария\", \"абв\", \"aaaб\", \"баб\", \"бaб\", \"бабаб\"]\n",
    "\n",
    "pattern1 = re.compile(r'^[A-Za-zА-Яа-яЁё]+$')\n",
    "pattern2 = re.compile(r'^[а-яё]+б$')\n",
    "pattern3 = re.compile(r'^(баб)+$')\n",
    "\n",
    "print([s for s in list_of_strings if pattern1.match(s)])\n",
    "print([s for s in list_of_strings if pattern2.match(s)])\n",
    "print([s for s in list_of_strings if pattern3.match(s)])\n",
    "\n",
    "\n"
   ]
  },
  {
   "cell_type": "code",
   "execution_count": null,
   "metadata": {},
   "outputs": [
    {
     "name": "stdout",
     "output_type": "stream",
     "text": [
      "Task 1 Match: Ваня Ваня пришёл вовремя\n",
      "Task 1 Match: что что это же очевидно бабушка\n",
      "Task 1 Match: This is fine.\n",
      "Task 1 Match: (Well) this is fine.\n",
      "Task 2 Match: 123 это строка и заканчивается словом финал\n",
      "Task 3 Match: В пещере цвет выцвел, и ворон каркнул громко.\n",
      "Task 4 Original: This is fine.\n",
      "Task 4 Modified: is fine. This\n",
      "Task 4 Original: The bag is empty.\n",
      "Task 4 Modified: bag is empty. The\n"
     ]
    }
   ],
   "source": [
    "#Задание 6 \n",
    "import re\n",
    "list_of_strings = [\n",
    "    \"ПриветМир\", \"abcXYZ\", \"МарияАнтуанетта\", \"über\", \"abc-xyz\", \"abc_123\",\n",
    "    \"хлеб\", \"арбузб\", \"арбузБ\", \"баб\", \"ббабб\", \"б\", \"бббаббаб\", \"ба\", \"аб\",\n",
    "    \"аба\", \"а\", \"Ваня Ваня пришёл вовремя\", \"что что это же очевидно бабушка\",\n",
    "    \"мы просто говорим тут\", \"123 это строка и заканчивается словом финал\",\n",
    "    \"+42 пример строки с числом в начале и словом на конце слово\",\n",
    "    \"7 а тут в конце восклицание!\", \"В пещере цвет выцвел, и ворон каркнул громко.\",\n",
    "    \"цветы не считаются, зато ворон тут есть.\", \"This is fine.\", \"The bag is empty.\",\n",
    "    \"'Hello', she said softly.\", \"(Well) this is fine.\", \"It's nice.\", \"Re-enter the room.\"\n",
    "]\n",
    "\n",
    "# задание 1: множества всех строк с двумя подряд идущими повторяющимися словами\n",
    "pattern1 = r'(\\w+)\\s+\\1'\n",
    "#\\w: Соответствует любому символу слова (буквам, цифрам, символам подчеркивания; включает кириллицу из-за поддержки Unicode в Python).\n",
    "#+: Соответствует одному или нескольким вхождениям \\w (обеспечивает непустое слово).\n",
    "#\\s+: Соответствует одному или нескольким пробельным символам (пробелы, табуляции, переводы строк).\n",
    "#\\1: обратная ссылка на группу захвата 1, совпадающая с тем же словом, что и captured.\n",
    "for s in list_of_strings:\n",
    "    if re.search(pattern1, s):\n",
    "        print(f\"Task 1 Match: {s}\")\n",
    "\n",
    "# задание 2: множества всех строк, которые начинаются в начале строки с целого числа и оканчиваются в конце строки словом\n",
    "pattern2 = r'^\\d+\\s+.*\\b[a-zA-Zа-яА-Я]+$'\n",
    "#^: Привязка матча к началу строки.\n",
    "#\\d: Соответствует любой цифре (0–9).\n",
    "#+: Соответствует одной или нескольким цифрам.\n",
    "#\\s+: Соответствует одному или нескольким пробельным символам.\n",
    "#.*: Сопоставляет любые символы (ноль или более) до последнего слова.\n",
    "#\\b: Граница слова для обеспечения четкого окончания последнего слова.\n",
    "#[a-zA-Zа-яА-Я]+: Соответствует одному или нескольким буквенным символам (как латинским, так и кириллическим).\n",
    "#+: Соответствует одной или нескольким буквам.\n",
    "#$: Привязка матча к концу строки.\n",
    "for s in list_of_strings:\n",
    "    if re.match(pattern2, s):\n",
    "        print(f\"Task 2 Match: {s}\")\n",
    "\n",
    "# задание 3: множества всех строк, в которых встречаются и слово «цвет», и слово «ворон»\n",
    "pattern3 = r'\\bцвет\\b.*\\bворон\\b|\\bворон\\b.*\\bцвет\\b'\n",
    "#\\b: Граница слова, гарантирующая, что \"цвет\" является отдельным словом.\n",
    "#цвет: Буквальное соответствие кириллического слова \"цвет\".\n",
    "#\\b: Граница слова после \"цвет\".\n",
    "#.*: Сопоставляет любые символы (ноль или более) между \"цвет\" и \"ворон\".\n",
    "#|: Логический оператор \"или\", позволяющий искать \"ворон\" перед \"цвет\".\n",
    "#\\bворон\\b: Соответствует слову \"ворон\" как отдельному слову (границы слова).\n",
    "# \\bцвет\\b: Соответствует слову \"цвет\" как отдельному слову (границы слова).\n",
    "for s in list_of_strings:\n",
    "    if re.search(pattern3, s):\n",
    "        print(f\"Task 3 Match: {s}\")\n",
    "\n",
    "# задание 4: напишите шаблон, который помещает первое слово английского предложения в группу и помещает его в конец предложения. Учтите пунктуацию\n",
    "pattern4 = r'^([a-zA-Z]+)\\s+(.*)([.!?]?)$'\n",
    "#^: Привязка к началу строки.\n",
    "#([a-zA-Z]+): Группа захвата 1, соответствующая первому слову (одна или несколько латинских букв).\n",
    "#\\s+: Соответствует одному или нескольким пробельным символам после первого слова.\n",
    "#(.*): Группа захвата 2, соответствующая остальной части предложения (любые символы, ноль или более).\n",
    "#([.!?]?): Группа захвата 3, соответствующая необязательному знаку препинания в конце предложения (точка, восклицательный знак или вопросительный знак).\n",
    "#$: Привязка к концу строки.\n",
    "for s in list_of_strings:\n",
    "    match = re.match(pattern4, s)\n",
    "    if match:\n",
    "        result = f\"{match.group(2)} {match.group(1)}{match.group(3)}\"\n",
    "        print(f\"Task 4 Original: {s}\")\n",
    "        print(f\"Task 4 Modified: {result}\")\n"
   ]
  },
  {
   "cell_type": "code",
   "execution_count": null,
   "metadata": {},
   "outputs": [],
   "source": [
    "Решение задания 7 на английском на google colab https://colab.research.google.com/drive/1phXFGmNS6XniXFUr2XqKYUCohrEXWBWG?usp=sharing"
   ]
  },
  {
   "cell_type": "markdown",
   "metadata": {
    "id": "BuzPJEDoiGhQ"
   },
   "source": [
    "### Задание 7\n",
    "\n",
    "## вариант 1 (на примере английского языка)\n",
    "Цель\n",
    "\n",
    "Реализовать простейшего чат-бота в стиле ELIZA — диалог на основе шаблонных подстановок (регулярных выражений). Бот распознаёт некоторые речевые шаблоны в реплике пользователя и отвечает заранее заготовленными фразами, иногда повторяя части исходной реплики.\n",
    "\n",
    "Допускается выбрать иной «домен» (например, «коуч по продуктивности», «техподдержка», «фитнес-тренер»), но важно, чтобы предметная область позволяла строить простые повторяющиеся шаблоны.\n",
    "\n",
    "Минимальные требования к решению\n",
    "\n",
    "Нормализация входа: приведите текст к единому регистру (проще — к ВЕРХНЕМУ) или используйте re.IGNORECASE.\n",
    "\n",
    "Правила (pattern → response): храните набор пар «регулярное выражение → шаблон ответа».\n",
    "\n",
    "Порядок применения: идите по списку правил сверху вниз и используйте первое совпадение (или случайно выбирайте из нескольких ответов для одного и того же паттерна).\n",
    "\n",
    "Захватывающие группы: используйте скобки (...) и ссылки \\1, \\2, чтобы подставлять фрагменты из исходной реплики в ответ.\n",
    "\n",
    "Фолбэк (по желанию, но полезно): если ни одно правило не сработало, верните нейтральный ответ («PLEASE, GO ON.») или «эхо-ответ» с отражением местоимений (I→YOU, my→YOUR и т. п.).\n",
    "\n",
    "Пример набора правил (как в условии)\n",
    "re.sub(r\".* I AM (DEPRESSED|SAD) .*\", r\"I AM SORRY TO HEAR YOU ARE \\1\", input)\n",
    "re.sub(r\".* I AM (DEPRESSED|SAD) .*\", r\"WHY DO YOU THINK YOU ARE \\1\", input)\n",
    "re.sub(r\".* ALWAYS .*\",                 r\"CAN YOU THINK OF A SPECIFIC EXAMPLE\", input)\n",
    "\n",
    "    Что делает каждое правило\n",
    "\n",
    "    .* YOU ARE (DEPRESSED|SAD) .*\n",
    "    Ищет в строке фразу I AM и одно из слов DEPRESSED или SAD.\n",
    "\n",
    "    .* — «любой текст» до/после (жадное соответствие).\n",
    "\n",
    "    (DEPRESSED|SAD) — захватывающая группа: попадёт либо DEPRESSED, либо SAD.\n",
    "\n",
    "    В ответах \\1 вставит совпавшее слово (DEPRESSED/SAD).\n",
    "\n",
    "    .* ALWAYS .*\n",
    "    Срабатывает, если в тексте встречается слово/подстрока ALWAYS\n",
    "\n",
    "    Примечание о регистре: чтобы шаблоны сработали, вход обычно переводят в верхний регистр (input.upper()), либо включают флаг re.IGNORECASE.\n",
    "\n",
    "\n",
    "Ниже —  примеры коротких диалогов для демонстрации ELIZA с шаблонами на базе регулярок. Реплики ELIZA — в ВЕРХНЕМ РЕГИСТРЕ.\n",
    "\n",
    "1. (ALWAYS)\n",
    "User: They always complain about me.\n",
    "ELIZA: CAN YOU THINK OF A SPECIFIC EXAMPLE\n",
    "\n",
    "2. (ALWAYS)\n",
    "User: You always interrupt me during meetings.\n",
    "ELIZA: CAN YOU THINK OF A SPECIFIC EXAMPLE\n",
    "\n",
    "3. (YOU ARE (DEPRESSED|SAD) — через отражение “I’m → YOU ARE”)\n",
    "User: I’m depressed lately.\n",
    "ELIZA: I AM SORRY TO HEAR YOU ARE DEPRESSED\n",
    "\n",
    "4. (YOU ARE (DEPRESSED|SAD) — альтернативный ответ)\n",
    "User: I’m sad most evenings.\n",
    "ELIZA: WHY DO YOU THINK YOU ARE SAD\n",
    "\n",
    "5. (I NEED …)\n",
    "User: I need more time to finish this.\n",
    "ELIZA: WHY DO YOU NEED MORE TIME TO FINISH THIS\n",
    "\n",
    "6. (I WANT …)\n",
    "User: I want a new job.\n",
    "ELIZA: WHY DO YOU WANT A NEW JOB\n",
    "\n",
    "7. (BECAUSE …)\n",
    "User: I left early because I was tired.\n",
    "ELIZA: IS THAT THE REAL REASON\n",
    "\n",
    "8. (FAMILY/RELATION — MOTHER)\n",
    "User: My mother worries about my choices.\n",
    "ELIZA: TELL ME MORE ABOUT YOUR MOTHER\n",
    "\n",
    "9. (RELATION — BOYFRIEND)\n",
    "User: My boyfriend made me come here.\n",
    "ELIZA: YOUR BOYFRIEND MADE YOU COME HERE\n",
    "\n",
    "10. (Фолбэк с отражением местоимений)\n",
    "User: My manager pushed me too hard.\n",
    "ELIZA: YOUR MANAGER PUSHED YOU TOO HARD\n",
    "\n",
    "11. (Фолбэк с отражением местоимений)\n",
    "User: My cat annoys me sometimes.\n",
    "ELIZA: YOUR CAT ANNOYS YOU SOMETIMES\n",
    "\n",
    "12. (Фолбэк — нейтральная реакция, ни один шаблон не сработал)\n",
    "User: The weather is fine today.\n",
    "ELIZA: PLEASE, GO ON.\n",
    "\n",
    "\n",
    "\n"
   ]
  },
  {
   "cell_type": "markdown",
   "metadata": {},
   "source": [
    "Решение задания 7 на английский вариант на google colab https://colab.research.google.com/drive/1phXFGmNS6XniXFUr2XqKYUCohrEXWBWG?usp=sharing"
   ]
  },
  {
   "cell_type": "markdown",
   "metadata": {},
   "source": [
    "В виртуальной среде есть проблемы с выводом строки чтобы отвечать ELiz! Пожтому сделал два отдельных блокнота и дал ссылки"
   ]
  },
  {
   "cell_type": "markdown",
   "metadata": {},
   "source": [
    "Решение задания 7 на английский вариант на google colab https://colab.research.google.com/drive/1phXFGmNS6XniXFUr2XqKYUCohrEXWBWG?usp=sharing"
   ]
  },
  {
   "cell_type": "markdown",
   "metadata": {},
   "source": [
    "Задание 7 Русский вариант по ссылке https://colab.research.google.com/drive/1NjYteMUj5fNH0deohqbj9jawZoc3huuL?usp=sharing"
   ]
  },
  {
   "cell_type": "markdown",
   "metadata": {
    "id": "oEPR2EeriGhQ"
   },
   "source": [
    "### Задание 7\n",
    "\n",
    "## вариант 2 (на примере русского языка)\n",
    "\n",
    "Цель\n",
    "\n",
    "Сделать простого чат-бота в стиле ELIZA на русском. Бот распознаёт шаблоны в реплике пользователя (через регулярные выражения) и отвечает заготовленными фразами, иногда повторяя части исходной реплики.\n",
    "\n",
    "Что требуется\n",
    "\n",
    "Нормализовать ввод: либо переводите реплику в ВЕРХНИЙ РЕГИСТР (text.upper()), либо используйте re.IGNORECASE.\n",
    "\n",
    "Сопоставлять правила сверху вниз: каждое правило — это пара (паттерн, шаблон ответа); срабатывает первое подходящее.\n",
    "\n",
    "Использовать группы: скобки (...) и ссылки \\1, \\2 для подстановки фрагментов.\n",
    "\n",
    "Фолбэк: если нет совпадений — нейтральный ответ («ПРОДОЛЖАЙ, ПОЖАЛУЙСТА.») или «эхо» с отражением местоимений (я→ты, мне→тебе, мой→твой и т. п.).\n",
    "\n",
    "Базовый набор правил (пример)\n",
    "\n",
    "Ниже — минимальные русскоязычные аналоги популярных правил ELIZA.\n",
    "\n",
    "# 1) Утверждения про грусть/упадок (после отражения «я»→«ты»)\n",
    "r\".*\\bТЫ (ГРУСТИШЬ|УНЫВАЕШЬ|ПЕЧАЛИШЬСЯ|РАССТРОЕН(?:А)?)\\b.*\"\n",
    "→ \"МНЕ ЖАЛЬ СЛЫШАТЬ, ЧТО ТЫ \\1.\"\n",
    "или\n",
    "→ \"ПОЧЕМУ ТЫ ДУМАЕШЬ, ЧТО ТЫ \\1?\"\n",
    "\n",
    "# 2) Обобщения «всегда»\n",
    "r\".*\\bВСЕГДА\\b.*\"\n",
    "→ \"МОЖЕШЬ ПРИВЕСТИ КОНКРЕТНЫЙ ПРИМЕР?\"\n",
    "\n",
    "# 3) Потребности и желания\n",
    "r\".*\\bМНЕ НУЖНО\\b\\s+(.+)\"\n",
    "→ \"ПОЧЕМУ ТЕБЕ НУЖНО \\1?\"\n",
    "\n",
    "r\".*\\bЯ ХОЧУ\\b\\s+(.+)\"\n",
    "→ \"ПОЧЕМУ ТЫ ХОЧЕШЬ \\1?\"\n",
    "\n",
    "# 4) Причины\n",
    "r\".*\\bПОТОМУ ЧТО\\b\\s+(.+)\"\n",
    "→ \"ЭТО ИСТИННАЯ ПРИЧИНА?\"\n",
    "\n",
    "# 5) Близкие/отношения (ответ без склонения, чтобы избежать грамматических ловушек)\n",
    "r\".*\\b(МАМА|ПАПА|ПАРЕНЬ|ДЕВУШКА|МУЖ|ЖЕНА|ДРУГ|ПОДРУГА)\\b.*\"\n",
    "→ \"РАССКАЖИ ПОДРОБНЕЕ О СВОИХ ОТНОШЕНИЯХ.\"\n",
    "\n",
    "Отражение местоимений (минимум)\n",
    "\n",
    "Перед проверкой правил (или в фолбэке) полезно применить простые замены:\n",
    "\n",
    "\\bя\\b → ТЫ, \\bменя\\b → ТЕБЯ, \\bмне\\b → ТЕБЕ, \\bмой\\b → ТВОЙ, \\bмоя\\b → ТВОЯ, \\bмои\\b → ТВОИ\n",
    "\n",
    "\\bмы\\b → ВЫ, \\bнаш\\b → ВАШ, \\bнаши\\b → ВАШИ\n",
    "\n",
    "(опционально в обратную сторону для «ты→я», если хотите отвечать от первого лица)\n",
    "\n",
    "Примеры диалогов (русский)\n",
    "\n",
    "1. (ВСЕГДА)\n",
    "User: Они всегда критикуют меня.\n",
    "ELIZA: МОЖЕШЬ ПРИВЕСТИ КОНКРЕТНЫЙ ПРИМЕР?\n",
    "\n",
    "2. (ВСЕГДА)\n",
    "User: Ты всегда перебиваешь меня на встречах.\n",
    "ELIZA: МОЖЕШЬ ПРИВЕСТИ КОНКРЕТНЫЙ ПРИМЕР?\n",
    "\n",
    "3. (ГРУСТЬ — через отражение «я»→«ты»)\n",
    "User: Я грущу последние дни.\n",
    "ELIZA: МНЕ ЖАЛЬ СЛЫШАТЬ, ЧТО ТЫ ГРУСТИШЬ.\n",
    "\n",
    "4. (ГРУСТЬ — альтернативный ответ)\n",
    "User: Я часто бываю расстроена.\n",
    "ELIZA: ПОЧЕМУ ТЫ ДУМАЕШЬ, ЧТО ТЫ РАССТРОЕНА?\n",
    "\n",
    "5. (МНЕ НУЖНО …)\n",
    "User: Мне нужно больше времени на проект.\n",
    "ELIZA: ПОЧЕМУ ТЕБЕ НУЖНО БОЛЬШЕ ВРЕМЕНИ НА ПРОЕКТ?\n",
    "\n",
    "6. (Я ХОЧУ …)\n",
    "User: Я хочу сменить работу.\n",
    "ELIZA: ПОЧЕМУ ТЫ ХОЧЕШЬ СМЕНИТЬ РАБОТУ?\n",
    "\n",
    "7. (ПОТОМУ ЧТО …)\n",
    "User: Я ушёл раньше, потому что устал.\n",
    "ELIZA: ЭТО ИСТИННАЯ ПРИЧИНА?\n",
    "\n",
    "8. (БЛИЗКИЕ)\n",
    "User: Моя мама очень волнуется из-за меня.\n",
    "ELIZA: РАССКАЖИ ПОДРОБНЕЕ О СВОИХ ОТНОШЕНИЯХ.\n",
    "\n",
    "9. (Фолбэк с отражением местоимений)\n",
    "User: Мой начальник давит на меня.\n",
    "ELIZA: ТВОЙ НАЧАЛЬНИК ДАВИТ НА ТЕБЯ.\n",
    "\n",
    "10. (Фолбэк — нейтрально)\n",
    "User: Погода сегодня отличная.\n",
    "ELIZA: ПРОДОЛЖАЙ, ПОЖАЛУЙСТА."
   ]
  },
  {
   "cell_type": "markdown",
   "metadata": {},
   "source": [
    "Задание 7 Русский вариант по ссылке https://colab.research.google.com/drive/1NjYteMUj5fNH0deohqbj9jawZoc3huuL?usp=sharing"
   ]
  },
  {
   "cell_type": "markdown",
   "metadata": {},
   "source": [
    "Задание 7 Русский вариант по ссылке https://colab.research.google.com/drive/1NjYteMUj5fNH0deohqbj9jawZoc3huuL?usp=sharing"
   ]
  }
 ],
 "metadata": {
  "colab": {
   "provenance": []
  },
  "kernelspec": {
   "display_name": "Python 3",
   "language": "python",
   "name": "python3"
  },
  "language_info": {
   "codemirror_mode": {
    "name": "ipython",
    "version": 3
   },
   "file_extension": ".py",
   "mimetype": "text/x-python",
   "name": "python",
   "nbconvert_exporter": "python",
   "pygments_lexer": "ipython3",
   "version": "3.11.9"
  },
  "orig_nbformat": 4
 },
 "nbformat": 4,
 "nbformat_minor": 0
}
